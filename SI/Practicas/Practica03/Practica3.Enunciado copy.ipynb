{
 "cells": [
  {
   "cell_type": "markdown",
   "metadata": {},
   "source": [
    "# Práctica 1. Resolución de problemas con búsqueda \n",
    "## Sistemas Inteligentes\n",
    "### Belén Díaz Agudo, Ismael Sagredo Olivenza"
   ]
  },
  {
   "cell_type": "markdown",
   "metadata": {},
   "source": [
    "La práctica está organizada en 2 partes obligatorias y una opcional:\n",
    "* Parte I: se muestra a través de ejemplos resueltos cómo se representan algunos problemas clásicos como el de las jarras, el problema de los misioneros o el problema del ocho puzzle. \n",
    "* Parte II: se muestra el uso de los algoritmos de búsqueda exhaustiva (ciega y heurística) vistos en clase. \n",
    "\n",
    "Opcional\n",
    "* Ejercicio 6 del notebook, realizar la parte II con el 16 Puzle.\n",
    "\n",
    "En el notebook encontraras claramente identificados los lugares en los que debes incluir código o comentarios.  \n",
    "Cuando termines los ejercicios entrega **este archivo en el campus**.  \n",
    "Debes incluir al comienzo una celda de markdown con el nombre completo de los miembros del grupo y número de grupo.\n",
    "\n",
    "Los comentarios razonados de los ejercicios son la parte más importante de esta práctica. "
   ]
  },
  {
   "cell_type": "markdown",
   "metadata": {},
   "source": [
    "## Parte I: Representación de problemas de espacios de estados."
   ]
  },
  {
   "cell_type": "markdown",
   "metadata": {},
   "source": [
    "Como hemos visto en clase la representación de un problema de espacio de estados consiste en:\n",
    "* Representar estados y acciones mediante una estructura de datos.\n",
    "* Definir: estado_inicial, es_estado_final(_), acciones(_), aplica(_,_) y\n",
    "  coste_de_aplicar_accion, si el problema tiene coste.\n",
    "\n",
    " La siguiente clase Problem representa este esquema general de cualquier\n",
    " problema de espacio de estados. Un problema concreto será una subclase de\n",
    " Problema, y requerirá implementar acciones, aplica y eventualmente __init__, actions,\n",
    " goal_test. La función coste_de_aplicar_accion la hemos incluido nosotros\n",
    " \n",
    "El primer paso es importar el código que necesitamos de search.py de AIMA y usar la clase Problem. "
   ]
  },
  {
   "cell_type": "code",
   "execution_count": 4,
   "metadata": {},
   "outputs": [],
   "source": [
    "from search import Problem"
   ]
  },
  {
   "cell_type": "code",
   "execution_count": 5,
   "metadata": {},
   "outputs": [],
   "source": [
    "# Para que funcione el import el archivo search.py tiene que estar en la mimsa carpeta que este notebook.\n",
    "# Se puede copiar el archivo search.py a la mimsa carpeta que este notebook.\n",
    "# Otra opcion para poner un prefijo a la ruta antes de importar es:\n",
    "import sys\n",
    "sys.path.append('aima/')\n",
    "import search"
   ]
  },
  {
   "cell_type": "code",
   "execution_count": 8,
   "metadata": {},
   "outputs": [],
   "source": [
    "## Copiamos aquí la definición de la clase Problem para facilitar la explicación.\n",
    "\n",
    "class Problem(object):\n",
    "\n",
    "    \"\"\"The abstract class for a formal problem. You should subclass\n",
    "    this and implement the methods actions and result, and possibly\n",
    "    __init__, goal_test, and path_cost. Then you will create instances\n",
    "    of your subclass and solve them with the various search functions.\"\"\"\n",
    "\n",
    "    def __init__(self, initial, goal=None):\n",
    "        \"\"\"The constructor specifies the initial state, and possibly a goal\n",
    "        state, if there is a unique goal. Your subclass's constructor can add\n",
    "        other arguments.\"\"\"\n",
    "        self.initial = initial\n",
    "        self.goal = goal\n",
    "\n",
    "    def actions(self, state):\n",
    "        \"\"\"Return the actions that can be executed in the given\n",
    "        state. The result would typically be a list, but if there are\n",
    "        many actions, consider yielding them one at a time in an\n",
    "        iterator, rather than building them all at once.\"\"\"\n",
    "        raise NotImplementedError\n",
    "\n",
    "    def result(self, state, action):\n",
    "        \"\"\"Return the state that results from executing the given\n",
    "        action in the given state. The action must be one of\n",
    "        self.actions(state).\"\"\"\n",
    "        raise NotImplementedError\n",
    "\n",
    "    def goal_test(self, state):\n",
    "        \"\"\"Return True if the state is a goal. The default method compares the\n",
    "        state to self.goal or checks for state in self.goal if it is a\n",
    "        list, as specified in the constructor. Override this method if\n",
    "        checking against a single self.goal is not enough.\"\"\"\n",
    "        if isinstance(self.goal, list):\n",
    "            return is_in(state, self.goal)\n",
    "        else:\n",
    "            return state == self.goal\n",
    "\n",
    "    def path_cost(self, c, state1, action, state2):\n",
    "        \"\"\"Return the cost of a solution path that arrives at state2 from\n",
    "        state1 via action, assuming cost c to get up to state1. If the problem\n",
    "        is such that the path doesn't matter, this function will only look at\n",
    "        state2.  If the path does matter, it will consider c and maybe state1\n",
    "        and action. The default method costs 1 for every step in the path.\"\"\"\n",
    "        return c + 1\n",
    "\n",
    "    def value(self, state):\n",
    "        \"\"\"For optimization problems, each state has a value.  Hill-climbing\n",
    "        and related algorithms try to maximize this value.\"\"\"\n",
    "        raise NotImplementedError\n",
    "\n",
    "    def coste_de_aplicar_accion(self, estado, accion):\n",
    "        \"\"\"Hemos incluido está función que devuelve el coste de un único operador (aplicar accion a estado). Por defecto, este\n",
    "        coste es 1. Reimplementar si el problema define otro coste \"\"\" \n",
    "        return 1"
   ]
  },
  {
   "cell_type": "markdown",
   "metadata": {},
   "source": [
    "Ahora vamos a ver un ejemplo de cómo definir un problema como subclase\n",
    "de problema. En concreto, el problema de las jarras, visto en clase que es muy sencillo. "
   ]
  },
  {
   "cell_type": "code",
   "execution_count": 9,
   "metadata": {},
   "outputs": [],
   "source": [
    "class Jarras(Problem):\n",
    "    \"\"\"Problema de las jarras:\n",
    "    Representaremos los estados como tuplas (x,y) de dos números enteros,\n",
    "    donde x es el número de litros de la jarra de 4 e y es el número de litros\n",
    "    de la jarra de 3\"\"\"\n",
    "\n",
    "    def __init__(self):\n",
    "        self.initial = (0,0)\n",
    "\n",
    "    def actions(self,estado):\n",
    "        jarra_de_4=estado[0]\n",
    "        jarra_de_3=estado[1]\n",
    "        accs=list()\n",
    "        if jarra_de_4 > 0:\n",
    "            accs.append(\"vaciar jarra de 4\")\n",
    "            if jarra_de_3 < 3:\n",
    "                accs.append(\"trasvasar de jarra de 4 a jarra de 3\")\n",
    "        if jarra_de_4 < 4:\n",
    "            accs.append(\"llenar jarra de 4\")\n",
    "            if jarra_de_3 > 0:\n",
    "                accs.append(\"trasvasar de jarra de 3 a jarra de 4\")\n",
    "        if jarra_de_3 > 0:\n",
    "            accs.append(\"vaciar jarra de 3\")\n",
    "        if jarra_de_3 < 3:\n",
    "            accs.append(\"llenar jarra de 3\")\n",
    "        return accs\n",
    "\n",
    "    def result(self,estado,accion):\n",
    "        j4=estado[0]\n",
    "        j3=estado[1]\n",
    "        if accion==\"llenar jarra de 4\":\n",
    "            return (4,j3)\n",
    "        elif accion==\"llenar jarra de 3\":\n",
    "            return (j4,3)\n",
    "        elif accion==\"vaciar jarra de 4\":\n",
    "            return (0,j3)\n",
    "        elif accion==\"vaciar jarra de 3\":\n",
    "            return (j4,0)\n",
    "        elif accion==\"trasvasar de jarra de 4 a jarra de 3\":\n",
    "            return (j4-3+j3,3) if j3+j4 >= 3 else (0,j3+j4)\n",
    "        else: #  \"trasvasar de jarra de 3 a jarra de 4\"\n",
    "            return (j3+j4,0) if j3+j4 <= 4 else (4,j3-4+j4)\n",
    "\n",
    "    def goal_test(self,estado):\n",
    "        return estado[0]==2\n"
   ]
  },
  {
   "cell_type": "markdown",
   "metadata": {},
   "source": [
    "Vamos a probar algunos ejemplos."
   ]
  },
  {
   "cell_type": "code",
   "execution_count": 11,
   "metadata": {},
   "outputs": [
    {
     "data": {
      "text/plain": [
       "(0, 0)"
      ]
     },
     "execution_count": 11,
     "metadata": {},
     "output_type": "execute_result"
    }
   ],
   "source": [
    "p =Jarras()\n",
    "p.initial"
   ]
  },
  {
   "cell_type": "code",
   "execution_count": 12,
   "metadata": {},
   "outputs": [
    {
     "data": {
      "text/plain": [
       "['llenar jarra de 4', 'llenar jarra de 3']"
      ]
     },
     "execution_count": 12,
     "metadata": {},
     "output_type": "execute_result"
    }
   ],
   "source": [
    "p.actions(p.initial)"
   ]
  },
  {
   "cell_type": "code",
   "execution_count": 13,
   "metadata": {},
   "outputs": [
    {
     "data": {
      "text/plain": [
       "(4, 0)"
      ]
     },
     "execution_count": 13,
     "metadata": {},
     "output_type": "execute_result"
    }
   ],
   "source": [
    "p.result(p.initial,\"llenar jarra de 4\")"
   ]
  },
  {
   "cell_type": "code",
   "execution_count": 14,
   "metadata": {},
   "outputs": [
    {
     "data": {
      "text/plain": [
       "1"
      ]
     },
     "execution_count": 14,
     "metadata": {},
     "output_type": "execute_result"
    }
   ],
   "source": [
    "p.coste_de_aplicar_accion(p.initial,\"llenar jarra de 4\")"
   ]
  },
  {
   "cell_type": "code",
   "execution_count": 15,
   "metadata": {},
   "outputs": [
    {
     "data": {
      "text/plain": [
       "False"
      ]
     },
     "execution_count": 15,
     "metadata": {},
     "output_type": "execute_result"
    }
   ],
   "source": [
    "p.goal_test(p.initial)"
   ]
  },
  {
   "cell_type": "markdown",
   "metadata": {},
   "source": [
    "### Problema de los misioneros"
   ]
  },
  {
   "cell_type": "code",
   "execution_count": 16,
   "metadata": {},
   "outputs": [],
   "source": [
    "# Creamos la clase ProblemaMisioneros con los elementos que representarán el problema. \n",
    "class ProblemaMisioneros(Problem):\n",
    "    ''' Clase problema (formalizacion de nuestro problema) siguiendo la\n",
    "        estructura que aima espera que tengan los problemas.'''\n",
    "    def __init__(self, initial, goal=None):\n",
    "        '''Inicializacion de nuestro problema.'''\n",
    "        Problem.__init__(self, initial, goal)\n",
    "        # cada accion tiene un texto para identificar al operador y despues una tupla de dos elementos con la\n",
    "        # cantidad de misioneros y canibales que se mueven en la canoa\n",
    "        self._actions = [('1c', (0, 1)), ('1m', (1, 0)), ('2c', (0, 2)), ('2m', (2, 0)), ('1m1c', (1, 1))]\n",
    "\n",
    "    def actions(self, s):\n",
    "        '''Devuelve las acciones validas para un estado.'''\n",
    "        # las acciones validas para un estado son aquellas que al aplicarse\n",
    "        # nos dejan en otro estado valido\n",
    "        return [a for a in self._actions if self._is_valid(self.result(s, a))]\n",
    "\n",
    "    def _is_valid(self, s):\n",
    "        '''Determina si un estado es valido o no.'''\n",
    "        # un estado es valido si no hay mas canibales que misioneros en ninguna\n",
    "        # orilla, y si las cantidades estan entre 0 y 3\n",
    "        return (s[0] >= s[1] or s[0] == 0) and ((3 - s[0]) >= (3 - s[1]) or s[0] == 3) and (0 <= s[0] <= 3) and (0 <= s[1] <= 3)\n",
    "\n",
    "    def result(self, s, a):\n",
    "        '''Devuelve el estado resultante de aplicar una accion a un estado\n",
    "           determinado.'''\n",
    "        # el estado resultante tiene la canoa en el lado opuesto, y con las\n",
    "        # cantidades de misioneros y canibales actualizadas segun la cantidad\n",
    "        # que viajaron en la canoa\n",
    "        if s[2] == 0:\n",
    "            return (s[0] - a[1][0], s[1] - a[1][1], 1)\n",
    "        else:\n",
    "            return (s[0] + a[1][0], s[1] + a[1][1], 0)\n",
    "\n"
   ]
  },
  {
   "cell_type": "code",
   "execution_count": 17,
   "metadata": {},
   "outputs": [],
   "source": [
    "# creamos un problema a partir de nuestra formalizacion de ProblemaMisioneros\n",
    "# como parametros le pasamos el estado inicial, y el estado objetivo que esperamos\n",
    "misioneros = ProblemaMisioneros((3, 3, 0), (0, 0, 1))\n",
    "\n",
    "# Asegurate de que entiendes la formalización del problema y haz algunas pruebas con la representación del problema de los misioneros. \n",
    "# En la siguiente parte vamos a usar las implementaciones de los algoritmos de búsqueda de AIMA para \n",
    "# resolver los problemas que hemos representado. Por ejemplo, para resolver el problema de los misioneros con \n",
    "# el método de busqueda en anchura la llamada sería:  breadth_first_tree_search(estado).solution()"
   ]
  },
  {
   "cell_type": "code",
   "execution_count": 18,
   "metadata": {},
   "outputs": [
    {
     "data": {
      "text/plain": [
       "(3, 3, 0)"
      ]
     },
     "execution_count": 18,
     "metadata": {},
     "output_type": "execute_result"
    }
   ],
   "source": [
    "misioneros.initial"
   ]
  },
  {
   "cell_type": "code",
   "execution_count": 19,
   "metadata": {},
   "outputs": [
    {
     "data": {
      "text/plain": [
       "[('1c', (0, 1)), ('2c', (0, 2)), ('1m1c', (1, 1))]"
      ]
     },
     "execution_count": 19,
     "metadata": {},
     "output_type": "execute_result"
    }
   ],
   "source": [
    "misioneros.actions(misioneros.initial)"
   ]
  },
  {
   "cell_type": "markdown",
   "metadata": {},
   "source": [
    "### Representación del problema del puzzle de 8"
   ]
  },
  {
   "cell_type": "markdown",
   "metadata": {},
   "source": [
    "Vamos a definir la clase Ocho_Puzzle, que implementa la representación del problema del 8-puzzle visto en clase. \n",
    "Se os proporciona una versión incompleta y tendréis que completar el código que se presenta a continuación, en los lugares marcados con interrogantes."
   ]
  },
  {
   "cell_type": "markdown",
   "metadata": {},
   "source": [
    "### 8 Puzzle \n",
    "\n",
    "Tablero 3x3 cuyo objetivo es mover la configuración de las piezas desde un estado inicial dado a un estado objetivo moviendo las fichas al espacio en blanco. \n",
    "\n",
    "ejemplo:- \n",
    "\n",
    "                  Inicial                             Goal \n",
    "              | 7 | 2 | 4 |                       | 1 | 2 | 3 |\n",
    "              | 5 | 0 | 6 |                       | 4 | 5 | 6 |\n",
    "              | 8 | 3 | 1 |                       | 7 | 8 | 0 |\n",
    "              \n",
    "Hay 9! configuraciones iniciales pero ojo! porque no todas tienen solución. **Tenlo en cuenta al hacer las pruebas**. "
   ]
  },
  {
   "cell_type": "markdown",
   "metadata": {},
   "source": [
    "### EJERCICIO 1. Completa la definición de los operadores en el problema del Puzle de 8. "
   ]
  },
  {
   "cell_type": "code",
   "execution_count": 27,
   "metadata": {},
   "outputs": [],
   "source": [
    "class Ocho_Puzzle(Problem):\n",
    "    \"\"\"Problema a del 8-puzzle.  Los estados serán tuplas de nueve elementos,\n",
    "    permutaciones de los números del 0 al 8 (el 0 es el hueco). Representan la\n",
    "    disposición de las fichas en el tablero, leídas por filas de arriba a\n",
    "    abajo, y dentro de cada fila, de izquierda a derecha. Las cuatro\n",
    "    acciones del problema las representaremos mediante las cadenas:\n",
    "    \"Mover hueco arriba\", \"Mover hueco abajo\", \"Mover hueco izquierda\" y\n",
    "    \"Mover hueco derecha\", respectivamente.\"\"\"\"\"\n",
    "\n",
    "    def __init__(self, initial, goal=(1, 2, 3, 4, 5, 6, 7, 8, 0)):\n",
    "        \"\"\" Define goal state and initialize a problem \"\"\"\n",
    "        self.goal = goal\n",
    "        Problem.__init__(self, initial, goal)\n",
    "    \n",
    "    def actions(self,estado):\n",
    "        pos_hueco=estado.index(0) # busco la posicion del 0\n",
    "        accs=list()\n",
    "        if pos_hueco not in (0,1,2):\n",
    "            accs.append(\"Mover hueco arriba\")\n",
    "        \n",
    "        ### COMPLETA LA DEFINICIÓN DE LOS OPERADORES. \n",
    "        if pos_hueco not in (6, 7, 8):\n",
    "            accs.append(\"Mover hueco abajo\")\n",
    "        \n",
    "        if pos_hueco not in (0, 3, 6):\n",
    "            accs.append(\"Mover hueco izquierda\")\n",
    "\n",
    "        if pos_hueco not in (2, 5, 8):\n",
    "            accs.append(\"Mover hueco derecha\")\n",
    "\n",
    "        return accs     \n",
    "\n",
    "    def result(self,estado,accion):\n",
    "        pos_hueco = estado.index(0)\n",
    "        l = list(estado)\n",
    "        if accion == \"Mover hueco arriba\":\n",
    "            l[pos_hueco] = l[pos_hueco-3]\n",
    "            l[pos_hueco-3] = 0\n",
    "        \n",
    "       ### COMPLETA LA DEFINICIÓN DE LOS OPERADORES. \n",
    "        if accion == \"Mover hueco abajo\":\n",
    "            l[pos_hueco] = l[pos_hueco+3]\n",
    "            l[pos_hueco+3] = 0\n",
    "        \n",
    "        if accion == \"Mover hueco izquierda\":\n",
    "            l[pos_hueco] = l[pos_hueco-1]\n",
    "            l[pos_hueco-1] = 0\n",
    "\n",
    "        if accion == \"Mover hueco derecha\":\n",
    "            l[pos_hueco] = l[pos_hueco+1]\n",
    "            l[pos_hueco+1] = 0\n",
    "\n",
    "        \n",
    "        return tuple(l)\n",
    "    \n",
    "    def h(self, node):\n",
    "        \"\"\" Return the heuristic value for a given state. \"\"\"\"\"\n",
    "        return 1"
   ]
  },
  {
   "cell_type": "markdown",
   "metadata": {},
   "source": [
    "#### Una vez completada la definición de la clase podrás probar los siguientes ejemplos."
   ]
  },
  {
   "cell_type": "code",
   "execution_count": 28,
   "metadata": {},
   "outputs": [
    {
     "data": {
      "text/plain": [
       "(2, 8, 3, 1, 6, 4, 7, 0, 5)"
      ]
     },
     "execution_count": 28,
     "metadata": {},
     "output_type": "execute_result"
    }
   ],
   "source": [
    "p8 = Ocho_Puzzle((2, 8, 3, 1, 6, 4, 7, 0, 5))\n",
    "p8.initial"
   ]
  },
  {
   "cell_type": "code",
   "execution_count": 29,
   "metadata": {},
   "outputs": [
    {
     "data": {
      "text/plain": [
       "['Mover hueco arriba', 'Mover hueco izquierda', 'Mover hueco derecha']"
      ]
     },
     "execution_count": 29,
     "metadata": {},
     "output_type": "execute_result"
    }
   ],
   "source": [
    "p8.actions(p8.initial)\n",
    "#Respuesta: ['Mover hueco arriba', 'Mover hueco izquierda', 'Mover hueco derecha']"
   ]
  },
  {
   "cell_type": "code",
   "execution_count": 33,
   "metadata": {},
   "outputs": [
    {
     "data": {
      "text/plain": [
       "(2, 8, 3, 1, 0, 4, 7, 6, 5)"
      ]
     },
     "execution_count": 33,
     "metadata": {},
     "output_type": "execute_result"
    }
   ],
   "source": [
    "p8.result(p8.initial,\"Mover hueco arriba\")"
   ]
  },
  {
   "cell_type": "code",
   "execution_count": 34,
   "metadata": {},
   "outputs": [
    {
     "ename": "IndexError",
     "evalue": "list index out of range",
     "output_type": "error",
     "traceback": [
      "\u001b[1;31m---------------------------------------------------------------------------\u001b[0m",
      "\u001b[1;31mIndexError\u001b[0m                                Traceback (most recent call last)",
      "Cell \u001b[1;32mIn[34], line 1\u001b[0m\n\u001b[1;32m----> 1\u001b[0m \u001b[43mp8\u001b[49m\u001b[38;5;241;43m.\u001b[39;49m\u001b[43mresult\u001b[49m\u001b[43m(\u001b[49m\u001b[43mp8\u001b[49m\u001b[38;5;241;43m.\u001b[39;49m\u001b[43minitial\u001b[49m\u001b[43m,\u001b[49m\u001b[38;5;124;43m\"\u001b[39;49m\u001b[38;5;124;43mMover hueco abajo\u001b[39;49m\u001b[38;5;124;43m\"\u001b[39;49m\u001b[43m)\u001b[49m\n",
      "Cell \u001b[1;32mIn[27], line 42\u001b[0m, in \u001b[0;36mOcho_Puzzle.result\u001b[1;34m(self, estado, accion)\u001b[0m\n\u001b[0;32m     40\u001b[0m \u001b[38;5;66;03m### COMPLETA LA DEFINICIÓN DE LOS OPERADORES. \u001b[39;00m\n\u001b[0;32m     41\u001b[0m  \u001b[38;5;28;01mif\u001b[39;00m accion \u001b[38;5;241m==\u001b[39m \u001b[38;5;124m\"\u001b[39m\u001b[38;5;124mMover hueco abajo\u001b[39m\u001b[38;5;124m\"\u001b[39m:\n\u001b[1;32m---> 42\u001b[0m      l[pos_hueco] \u001b[38;5;241m=\u001b[39m \u001b[43ml\u001b[49m\u001b[43m[\u001b[49m\u001b[43mpos_hueco\u001b[49m\u001b[38;5;241;43m+\u001b[39;49m\u001b[38;5;241;43m3\u001b[39;49m\u001b[43m]\u001b[49m\n\u001b[0;32m     43\u001b[0m      l[pos_hueco\u001b[38;5;241m+\u001b[39m\u001b[38;5;241m3\u001b[39m] \u001b[38;5;241m=\u001b[39m \u001b[38;5;241m0\u001b[39m\n\u001b[0;32m     45\u001b[0m  \u001b[38;5;28;01mif\u001b[39;00m accion \u001b[38;5;241m==\u001b[39m \u001b[38;5;124m\"\u001b[39m\u001b[38;5;124mMover hueco izquierda\u001b[39m\u001b[38;5;124m\"\u001b[39m:\n",
      "\u001b[1;31mIndexError\u001b[0m: list index out of range"
     ]
    }
   ],
   "source": [
    "p8.result(p8.initial,\"Mover hueco abajo\")"
   ]
  },
  {
   "cell_type": "code",
   "execution_count": 35,
   "metadata": {},
   "outputs": [
    {
     "data": {
      "text/plain": [
       "(2, 8, 3, 1, 6, 4, 7, 5, 0)"
      ]
     },
     "execution_count": 35,
     "metadata": {},
     "output_type": "execute_result"
    }
   ],
   "source": [
    "p8.result(p8.initial,\"Mover hueco derecha\")"
   ]
  },
  {
   "cell_type": "code",
   "execution_count": 36,
   "metadata": {},
   "outputs": [
    {
     "data": {
      "text/plain": [
       "1"
      ]
     },
     "execution_count": 36,
     "metadata": {},
     "output_type": "execute_result"
    }
   ],
   "source": [
    "p8.coste_de_aplicar_accion(p8.initial,\"Mover hueco abajo\")"
   ]
  },
  {
   "cell_type": "markdown",
   "metadata": {},
   "source": [
    "### EJERCICIO 2.  Usando la representación anterior representa el problema del puzle de 16 piezas."
   ]
  },
  {
   "cell_type": "code",
   "execution_count": 30,
   "metadata": {},
   "outputs": [
    {
     "name": "stdout",
     "output_type": "stream",
     "text": [
      "Object `??` not found.\n"
     ]
    }
   ],
   "source": [
    "class Quince_Puzzle(Problem): \n",
    "    ## Completa la definición del problema\n",
    "     "
   ]
  },
  {
   "cell_type": "markdown",
   "metadata": {},
   "source": [
    "Realiza algunas pruebas para comprobar que la clase está bien definida. "
   ]
  },
  {
   "cell_type": "code",
   "execution_count": 31,
   "metadata": {},
   "outputs": [],
   "source": [
    "## Completa con las pruebas en este espacio"
   ]
  },
  {
   "cell_type": "markdown",
   "metadata": {},
   "source": [
    "## Parte II: Experimentación con los algoritmos implementados. Ejecución de los algoritmos de búsqueda de soluciones para una instancia del Problema."
   ]
  },
  {
   "cell_type": "markdown",
   "metadata": {},
   "source": [
    "En primer lugar vamos a ver cómo funciona la búsqueda ciega (en anchura y en profundidad) para encontrar soluciones para los tres problemas anteriores: el problema de las jarras, los misioneros y el problema del ocho puzzle con distintos estados iniciales."
   ]
  },
  {
   "cell_type": "code",
   "execution_count": 32,
   "metadata": {},
   "outputs": [],
   "source": [
    "# Cargamos el módulo con los algoritmos de búsqueda.\n",
    "from search import *\n",
    "from search import breadth_first_tree_search, depth_first_tree_search, depth_first_graph_search, breadth_first_graph_search"
   ]
  },
  {
   "cell_type": "markdown",
   "metadata": {},
   "source": [
    "Para que la importación de search funcione el archivo search.py y utils.py tienen que estar en la misma carpeta que este notebook o poner la ruta correspondiente."
   ]
  },
  {
   "cell_type": "code",
   "execution_count": 33,
   "metadata": {},
   "outputs": [],
   "source": [
    "# una opcion para poner un prefijo a la ruta antes de importar es:\n",
    "import sys\n",
    "sys.path.append('aima-python/')\n",
    "import search"
   ]
  },
  {
   "cell_type": "code",
   "execution_count": 34,
   "metadata": {},
   "outputs": [],
   "source": [
    "## A continuación se comprueba la resolución del problema de las jarras con el método de búsqueda en anchura."
   ]
  },
  {
   "cell_type": "code",
   "execution_count": 35,
   "metadata": {},
   "outputs": [
    {
     "data": {
      "text/plain": [
       "['llenar jarra de 4',\n",
       " 'trasvasar de jarra de 4 a jarra de 3',\n",
       " 'vaciar jarra de 3',\n",
       " 'trasvasar de jarra de 4 a jarra de 3',\n",
       " 'llenar jarra de 4',\n",
       " 'trasvasar de jarra de 4 a jarra de 3']"
      ]
     },
     "execution_count": 35,
     "metadata": {},
     "output_type": "execute_result"
    }
   ],
   "source": [
    "breadth_first_tree_search(Jarras()).solution()"
   ]
  },
  {
   "cell_type": "code",
   "execution_count": 36,
   "metadata": {},
   "outputs": [
    {
     "data": {
      "text/plain": [
       "['llenar jarra de 3',\n",
       " 'trasvasar de jarra de 3 a jarra de 4',\n",
       " 'llenar jarra de 3',\n",
       " 'trasvasar de jarra de 3 a jarra de 4',\n",
       " 'vaciar jarra de 4',\n",
       " 'trasvasar de jarra de 3 a jarra de 4']"
      ]
     },
     "execution_count": 36,
     "metadata": {},
     "output_type": "execute_result"
    }
   ],
   "source": [
    "depth_first_graph_search(Jarras()).solution()"
   ]
  },
  {
   "cell_type": "markdown",
   "metadata": {},
   "source": [
    "### EJERCICIO 3. Prueba los algoritmos de búsqueda ciega con el problema de los misioneros y con el  puzzle de 8 y de 16.  Comenta al final cómo se comportan los algoritmos en cuanto a eficiencia y resultados. "
   ]
  },
  {
   "cell_type": "code",
   "execution_count": 37,
   "metadata": {},
   "outputs": [],
   "source": [
    "# Usaremos las implementaciones de los algoritmos de búsqueda de AIMA para \n",
    "# resolver los problemas que hemos representado. \n",
    "\n",
    "#Por ejemplo, para resolver el problema de los misioneros con \n",
    "# el método de busqueda en anchura \n",
    "\n",
    "# breadth_first_tree_search(misioneros).solution()\n",
    "\n",
    "# Realiza pruebas con los diferentes algoritmos observando el comportamiento."
   ]
  },
  {
   "cell_type": "code",
   "execution_count": 38,
   "metadata": {},
   "outputs": [
    {
     "data": {
      "text/plain": [
       "(2, 8, 3, 1, 6, 4, 7, 0, 5)"
      ]
     },
     "execution_count": 38,
     "metadata": {},
     "output_type": "execute_result"
    }
   ],
   "source": [
    "p8 = Ocho_Puzzle((2, 8, 3, 1, 6, 4, 7, 0, 5))\n",
    "p8.initial"
   ]
  },
  {
   "cell_type": "code",
   "execution_count": 39,
   "metadata": {},
   "outputs": [
    {
     "data": {
      "text/plain": [
       "(1, 2, 3, 4, 5, 6, 7, 8, 0)"
      ]
     },
     "execution_count": 39,
     "metadata": {},
     "output_type": "execute_result"
    }
   ],
   "source": [
    "p8.goal"
   ]
  },
  {
   "cell_type": "code",
   "execution_count": 40,
   "metadata": {},
   "outputs": [
    {
     "name": "stdout",
     "output_type": "stream",
     "text": [
      "Object `???` not found.\n",
      "Object `???` not found.\n",
      "Object `???` not found.\n",
      "Object `???` not found.\n",
      "Object `???` not found.\n"
     ]
    },
    {
     "ename": "AttributeError",
     "evalue": "'NoneType' object has no attribute 'solution'",
     "output_type": "error",
     "traceback": [
      "\u001b[1;31m---------------------------------------------------------------------------\u001b[0m",
      "\u001b[1;31mAttributeError\u001b[0m                            Traceback (most recent call last)",
      "Cell \u001b[1;32mIn[40], line 1\u001b[0m\n\u001b[1;32m----> 1\u001b[0m breadth_first_tree_search(Ocho_Puzzle((\u001b[38;5;241m2\u001b[39m, \u001b[38;5;241m8\u001b[39m, \u001b[38;5;241m3\u001b[39m, \u001b[38;5;241m1\u001b[39m, \u001b[38;5;241m6\u001b[39m, \u001b[38;5;241m4\u001b[39m, \u001b[38;5;241m7\u001b[39m, \u001b[38;5;241m0\u001b[39m, \u001b[38;5;241m5\u001b[39m)))\u001b[38;5;241m.\u001b[39msolution()\n",
      "\u001b[1;31mAttributeError\u001b[0m: 'NoneType' object has no attribute 'solution'"
     ]
    }
   ],
   "source": [
    "breadth_first_tree_search(Ocho_Puzzle((2, 8, 3, 1, 6, 4, 7, 0, 5))).solution()\n",
    "## La llamada corresponde al algoritmo de busqueda en anchura sin control de repetidos.  \n",
    "## Esta llamada no funciona, se queda en [*]\n",
    "## Si es método de busqueda en anchura es completo.. ¿no debería terminar? ¿qué crees que está pasando?\n",
    "## ..............................................................................."
   ]
  },
  {
   "cell_type": "raw",
   "metadata": {},
   "source": [
    "# Añade a la definición del problema Ocho_Puzzle la función solvability que comprueba si un estado inicial tiene solución.\n",
    "def check_solvability(self, state):\n",
    "        \"\"\" Checks if the given state is solvable \"\"\"\n",
    "# The solvability of a configuration can be checked by calculating the Inversion Permutation. \n",
    "#If the total Inversion Permutation is even then the initial configuration is solvable else the initial configuration is not solvable which means that only 9!/2 initial states lead to a solution.\n",
    "        inversion = 0\n",
    "        for i in range(len(state)):\n",
    "            for j in range(i+1, len(state)):\n",
    "                if (state[i] > state[j]) and state[i] != 0 and state[j]!= 0:\n",
    "                    inversion += 1\n",
    "        return inversion % 2 == 0        "
   ]
  },
  {
   "cell_type": "code",
   "execution_count": null,
   "metadata": {},
   "outputs": [],
   "source": [
    "# Comprueba si el estado inicial (2, 8, 3, 1, 6, 4, 7, 0, 5) tiene solución.\n",
    "p8 = Ocho_Puzzle((2, 8, 3, 1, 6, 4, 7, 0, 5))\n",
    "if p8.check_solvability(p8.initial):\n",
    "    sol= breadth_first_tree_search(p8).solution()\n",
    "else: \n",
    "    sol=\"Este estado inicial no tiene solucion\""
   ]
  },
  {
   "cell_type": "code",
   "execution_count": null,
   "metadata": {},
   "outputs": [],
   "source": [
    "sol"
   ]
  },
  {
   "cell_type": "code",
   "execution_count": null,
   "metadata": {},
   "outputs": [],
   "source": [
    "breadth_first_tree_search(Ocho_Puzzle((1,2,3,4,5,6,0,7,8))).solution()"
   ]
  },
  {
   "cell_type": "code",
   "execution_count": null,
   "metadata": {},
   "outputs": [],
   "source": [
    "estado = Ocho_Puzzle((2, 4, 3, 1, 5, 6, 7, 8, 0))"
   ]
  },
  {
   "cell_type": "code",
   "execution_count": null,
   "metadata": {},
   "outputs": [],
   "source": [
    "breadth_first_tree_search(estado).solution()\n",
    "# Respuesta: ['arriba', 'izquierda', 'arriba', 'izquierda', 'abajo', 'derecha', 'derecha', 'abajo']"
   ]
  },
  {
   "cell_type": "code",
   "execution_count": null,
   "metadata": {},
   "outputs": [],
   "source": [
    "depth_first_graph_search(estado).solution()"
   ]
  },
  {
   "cell_type": "code",
   "execution_count": null,
   "metadata": {},
   "outputs": [],
   "source": [
    "breadth_first_graph_search(estado).solution()"
   ]
  },
  {
   "cell_type": "markdown",
   "metadata": {},
   "source": [
    "#### En este ejercicio se ha podido observar los resultados y tiempo de la ejecución de los algoritmos de búsqueda ciega.  Escribe aquí tus conclusiones respecto a la resolución de los problemas con búsqueda ciega:\n",
    "- Misioneros: \n",
    "- Puzle de 8:\n",
    "- Puzle de 16:  \n",
    "\n",
    "**********************************************************************************\n",
    "Puedes añadir todo el espacio que necesites."
   ]
  },
  {
   "cell_type": "markdown",
   "metadata": {},
   "source": [
    "### EJERCICIO 4:  Definición de heurísticas"
   ]
  },
  {
   "cell_type": "code",
   "execution_count": null,
   "metadata": {},
   "outputs": [],
   "source": [
    "#### 4.1. Para el problema de los misioneros define una heurística y comenta sus propiedades\n",
    "Puedes utilizar alguna de las heurísticas vistas en clase. \n",
    "\n",
    "# Heurísticas para el problema de los misioneros.\n",
    "\n",
    "\n",
    "def linear(node):\n",
    "    #goal = node.state.goal\n",
    "    goal = (1,2,3,4,5,6,7,8,0)\n",
    "    ??????? \n",
    "\n",
    "\n",
    "\n",
    "def manhattan(node):\n",
    "    state = node.state\n",
    "   \n",
    "    ????\n",
    "    \n",
    "    return mhd\n",
    "                \n",
    "def sqrt_manhattan(node):\n",
    "    state = node.state\n",
    "    ?????\n",
    "    \n",
    "    return math.sqrt(mhd)\n",
    "\n",
    "def max_heuristic(node):\n",
    "    score1 = manhattan(node)\n",
    "    score2 = linear(node)\n",
    "    return max(score1, score2)\n"
   ]
  },
  {
   "cell_type": "markdown",
   "metadata": {},
   "source": [
    "### EJERCICIO 5. \n",
    "#### Usar las implementaciones de AIMA de los algoritmos de búsqueda_coste_uniforme, busqueda_primero_el_mejor y búsqueda_a_estrella (con las heurísticas anteriores) para resolver el problema de los misioneros y algun ejemplo del puzle de 8 y puzle de 16. \n",
    "\n",
    "#### Comparar los costes temporales usando %timeit y comentar los resultados."
   ]
  },
  {
   "cell_type": "code",
   "execution_count": null,
   "metadata": {},
   "outputs": [],
   "source": [
    "####  Vamos a probar el 8-puzzle utilizando el siguiente **estado inicial** \n",
    "\n",
    "#              +---+---+---+\n",
    "#              | 2 | 4 | 3 |\n",
    "#              +---+---+---+\n",
    "#              | 1 | 5 | 6 |\n",
    "#              +---+---+---+\n",
    "#              | 7 | 8 | H |\n",
    "#              +---+---+---+\n",
    "\n",
    "puzle = Ocho_Puzzle((2, 4, 3, 1, 5, 6, 7, 8, 0)) \n",
    "astar_search(puzle).solution()"
   ]
  },
  {
   "cell_type": "code",
   "execution_count": null,
   "metadata": {},
   "outputs": [],
   "source": [
    "astar_search(puzzle,manhattan).solution()"
   ]
  },
  {
   "cell_type": "code",
   "execution_count": null,
   "metadata": {},
   "outputs": [],
   "source": [
    "puzle.initial"
   ]
  },
  {
   "cell_type": "code",
   "execution_count": null,
   "metadata": {},
   "outputs": [],
   "source": [
    "puzle.goal"
   ]
  },
  {
   "cell_type": "code",
   "execution_count": null,
   "metadata": {},
   "outputs": [],
   "source": [
    "astar_search(puzle,linear).solution()"
   ]
  },
  {
   "cell_type": "code",
   "execution_count": null,
   "metadata": {},
   "outputs": [],
   "source": [
    "astar_search(puzle,max_heuristic).solution()"
   ]
  },
  {
   "cell_type": "markdown",
   "metadata": {},
   "source": [
    "¿Has notado diferencias en los tiempos de ejecución? ¿y en los resultados?\n",
    "Vamos a medirlo "
   ]
  },
  {
   "cell_type": "code",
   "execution_count": null,
   "metadata": {},
   "outputs": [],
   "source": [
    "puzzle_1 = Ocho_Puzzle((2, 4, 3, 1, 5, 6, 7, 8, 0))\n",
    "puzzle_2 = Ocho_Puzzle((1, 2, 3, 4, 5, 6, 0, 7, 8))\n",
    "puzzle_3 = Ocho_Puzzle((1, 2, 3, 4, 5, 7, 8, 6, 0))"
   ]
  },
  {
   "cell_type": "code",
   "execution_count": null,
   "metadata": {},
   "outputs": [],
   "source": [
    "%%timeit\n",
    "astar_search(puzzle_1, linear)\n",
    "astar_search(puzzle_2, linear)\n",
    "astar_search(puzzle_3, linear)"
   ]
  },
  {
   "cell_type": "code",
   "execution_count": null,
   "metadata": {},
   "outputs": [],
   "source": [
    "%%timeit\n",
    "astar_search(puzzle_1, manhattan)\n",
    "astar_search(puzzle_2, manhattan)\n",
    "astar_search(puzzle_3, manhattan)"
   ]
  },
  {
   "cell_type": "code",
   "execution_count": null,
   "metadata": {},
   "outputs": [],
   "source": [
    "%%timeit\n",
    "astar_search(puzzle_1, sqrt_manhattan)\n",
    "astar_search(puzzle_2, sqrt_manhattan)\n",
    "astar_search(puzzle_3, sqrt_manhattan)"
   ]
  },
  {
   "cell_type": "code",
   "execution_count": null,
   "metadata": {},
   "outputs": [],
   "source": [
    "%%timeit\n",
    "astar_search(puzzle_1, max_heuristic)\n",
    "astar_search(puzzle_2, max_heuristic)\n",
    "astar_search(puzzle_3, max_heuristic)"
   ]
  },
  {
   "cell_type": "markdown",
   "metadata": {},
   "source": [
    "## Parte opcional\n",
    "\n",
    "## Ejercicio 6\n",
    "\n",
    "####  Realiza pruebas con otros algoritmos o con algún problema que definais vosotros.  \n",
    "\n",
    "Algunas pistas, podeis usar bidirectional_search y comparar con la busqueda no informada normal. recursive_best_first_search, hill_climbing, simulated_annealing, etc.\n",
    "\n",
    "\n",
    "#### Justifica aquí lo que has hecho y que conclusiones has sacado.\n",
    "\n",
    "----------------------------------------------------------------------------\n",
    "----------------------------------------------------------------------------\n",
    "----------------------------------------------------------------------------\n",
    "----------------------------------------------------------------------------\n",
    "----------------------------------------------------------------------------\n",
    "----------------------------------------------------------------------------\n",
    "----------------------------------------------------------------------------\n",
    "----------------------------------------------------------------------------\n"
   ]
  },
  {
   "cell_type": "markdown",
   "metadata": {},
   "source": []
  }
 ],
 "metadata": {
  "kernelspec": {
   "display_name": "Python 3 (ipykernel)",
   "language": "python",
   "name": "python3"
  },
  "language_info": {
   "codemirror_mode": {
    "name": "ipython",
    "version": 3
   },
   "file_extension": ".py",
   "mimetype": "text/x-python",
   "name": "python",
   "nbconvert_exporter": "python",
   "pygments_lexer": "ipython3",
   "version": "3.11.4"
  }
 },
 "nbformat": 4,
 "nbformat_minor": 2
}
