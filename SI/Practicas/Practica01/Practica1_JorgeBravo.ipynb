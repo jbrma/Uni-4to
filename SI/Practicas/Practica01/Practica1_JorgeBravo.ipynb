{
 "cells": [
  {
   "cell_type": "markdown",
   "metadata": {},
   "source": [
    "## Resuelve los siguientes ejercicios en este archivo y entregalo en el campus al final de la clase."
   ]
  },
  {
   "cell_type": "markdown",
   "metadata": {},
   "source": [
    "**_Ejercicio 1_**. Escribe un programa que calcule el volumen de un cono a partir del radio de la base y su altura. Usa la siguiente fórmula:\n",
    "volumen = pi * radio * radio * altura / 3\n",
    "Solicita los valores de radio y altura al usuario.  El valor aproximado de pi es 3.14159.\n",
    "\n"
   ]
  },
  {
   "cell_type": "code",
   "execution_count": 1,
   "metadata": {},
   "outputs": [
    {
     "name": "stdout",
     "output_type": "stream",
     "text": [
      "Volumen del cono:  1.0471975511965976\n"
     ]
    }
   ],
   "source": [
    "# Escribe aquí la solución del ejercicio 1.\n",
    "import numpy as np\n",
    "\n",
    "def volCono(r, h):\n",
    "    return np.pi * r * r * h / 3\n",
    "\n",
    "radio = float(input('Dime el radio:'))\n",
    "altura = float(input('Dime la altura:'))\n",
    "vol = volCono(radio, altura)\n",
    "\n",
    "print('Volumen del cono: ', vol)"
   ]
  },
  {
   "cell_type": "markdown",
   "metadata": {},
   "source": [
    "**_Ejercicio 2_**.  Escribe un programa que clasifique los elementos de una lista en positivos y negativos. Los elementos positivos deben añadirse a una lista y los negativos a otra. Si la lista original contiene ceros, se deben ignorar."
   ]
  },
  {
   "cell_type": "code",
   "execution_count": 2,
   "metadata": {},
   "outputs": [
    {
     "name": "stdout",
     "output_type": "stream",
     "text": [
      "Positivos:  [7, 6, 234] \n",
      "Negativos:  [-9, -4, -7]\n"
     ]
    }
   ],
   "source": [
    "# Escribe aquí la solución del ejercicio 2.\n",
    "#Ejemplo: \n",
    "lista_original = [7, 6, -9, 234, -4, 0, -7]\n",
    "#Positivos: [7, 6, 234]\n",
    "#Negativos: [-9, -4, -7]\n",
    "positivos = []\n",
    "negativos = []\n",
    "\n",
    "for num in lista_original:\n",
    "    if(num > 0):\n",
    "        positivos.append(num)\n",
    "    elif(num < 0):\n",
    "        negativos.append(num)\n",
    "\n",
    "print('Positivos: ', positivos, '\\nNegativos: ', negativos)\n"
   ]
  },
  {
   "cell_type": "markdown",
   "metadata": {},
   "source": [
    "**_Ejercicio 3_**.  Escribir una función cuadrados(l) que recibiendo una secuencia l de números, devuelve la lista de los cuadrados de esos números, en el mismo orden. Por ejemplo:\n",
    "\tcuadrados([4,1,5.2,3,8])\n",
    "\t[16, 1, 27.040000000000003, 9, 64]\n",
    "\tHacer dos versiones: una usando un bucle explícito, y la otra mediante definición de listas por comprensión."
   ]
  },
  {
   "cell_type": "code",
   "execution_count": 3,
   "metadata": {},
   "outputs": [
    {
     "name": "stdout",
     "output_type": "stream",
     "text": [
      "Bucle:  [16, 1, 27.040000000000003, 9, 64] \n",
      "Comprensión:  [16, 1, 27.040000000000003, 9, 64]\n"
     ]
    }
   ],
   "source": [
    "# Escribe aquí la solución del ejercicio 3.\n",
    "# Escribir una función cuadrados(l) que recibiendo una secuencia l de números,\n",
    "# devuelve la lista de los cuadrados de esos números, en el mismo orden.\n",
    "\n",
    "\n",
    "# Por ejemplo:\n",
    "# \n",
    "# >>> cuadrados([4,1,5.2,3,8])\n",
    "# [16, 1, 27.040000000000003, 9, 64]\n",
    "\n",
    "# ---------------------------------------------------------------------------\n",
    "\n",
    "def cuadradosBucle(l):\n",
    "    i = 0\n",
    "    for num in l:\n",
    "        l[i] = num * num\n",
    "        i += 1\n",
    "    return l\n",
    "\n",
    "def cuadradosComprension(l):\n",
    "    a = [x*x for x in l]\n",
    "    return a\n",
    "\n",
    "print ('Bucle: ', cuadradosBucle([4, 1, 5.2, 3, 8]), '\\nComprensión: ', cuadradosComprension([4, 1, 5.2, 3, 8]))"
   ]
  },
  {
   "cell_type": "markdown",
   "metadata": {},
   "source": [
    "**Ejercicio 4**: Crea una función en Python que calcule el mínimo común múltiplo de dos números y el máximo común divisor de dos números"
   ]
  },
  {
   "cell_type": "code",
   "execution_count": 7,
   "metadata": {},
   "outputs": [
    {
     "name": "stdout",
     "output_type": "stream",
     "text": [
      "MCM:  72 \n",
      "MCD:  1\n"
     ]
    }
   ],
   "source": [
    "# Escribe aquí la solución del ejercicio 4.\n",
    "\n",
    "def mcm(a,b):\n",
    "    return (a*b)//mcd(a,b)\n",
    "\n",
    "def mcd(a,b):\n",
    "    while b:\n",
    "        a, b = b, a % b\n",
    "    return a\n",
    "\n",
    "a = int(input('Dime el primer número:'))\n",
    "b = int(input('Dime el segundo número:'))\n",
    "\n",
    "print('MCM: ', mcm(a,b), '\\nMCD: ', mcd(a,b))"
   ]
  }
 ],
 "metadata": {
  "kernelspec": {
   "display_name": "Python 3 (ipykernel)",
   "language": "python",
   "name": "python3"
  },
  "language_info": {
   "codemirror_mode": {
    "name": "ipython",
    "version": 3
   },
   "file_extension": ".py",
   "mimetype": "text/x-python",
   "name": "python",
   "nbconvert_exporter": "python",
   "pygments_lexer": "ipython3",
   "version": "3.11.4"
  }
 },
 "nbformat": 4,
 "nbformat_minor": 2
}
